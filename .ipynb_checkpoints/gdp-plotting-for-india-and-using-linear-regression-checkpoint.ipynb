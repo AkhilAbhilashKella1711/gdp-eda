{
 "cells": [
  {
   "cell_type": "markdown",
   "metadata": {
    "id": "faRaw_nuZvxr"
   },
   "source": [
    "# **GDP Plotting For India and using Linear Regression for Predicting GDP for the Same**"
   ]
  },
  {
   "cell_type": "code",
   "execution_count": 1,
   "metadata": {
    "id": "dOz1sTTiAcmA"
   },
   "outputs": [],
   "source": [
    "import pandas as pd \n",
    "import numpy as np\n",
    "import matplotlib \n",
    "import seaborn  as sns \n",
    "import statistics\n",
    "import scipy\n",
    "from scipy import stats\n",
    "import matplotlib.pyplot as plt"
   ]
  },
  {
   "cell_type": "code",
   "execution_count": 2,
   "metadata": {
    "id": "-a0DeZPcAfBd"
   },
   "outputs": [],
   "source": [
    "#Importing & reading CSV file\n",
    "gdp = pd.read_csv(\"./gdp_csv.csv\")"
   ]
  },
  {
   "cell_type": "code",
   "execution_count": 3,
   "metadata": {
    "executionInfo": {
     "elapsed": 1143,
     "status": "ok",
     "timestamp": 1619957875258,
     "user": {
      "displayName": "Yash Dantale",
      "photoUrl": "",
      "userId": "09586182703132829841"
     },
     "user_tz": -330
    },
    "id": "kDYtz1BKAmxa",
    "outputId": "bdddba80-7775-4f21-be1b-6592a3f325de"
   },
   "outputs": [
    {
     "name": "stdout",
     "output_type": "stream",
     "text": [
      "(11507, 4)\n"
     ]
    }
   ],
   "source": [
    "#Shape\n",
    "print(gdp.shape)   "
   ]
  },
  {
   "cell_type": "code",
   "execution_count": 4,
   "metadata": {
    "executionInfo": {
     "elapsed": 1259,
     "status": "ok",
     "timestamp": 1619957914181,
     "user": {
      "displayName": "Yash Dantale",
      "photoUrl": "",
      "userId": "09586182703132829841"
     },
     "user_tz": -330
    },
    "id": "sOAgDqwUA3jH",
    "outputId": "ec1e2350-af17-4ef2-d1a2-8586d3a5e406"
   },
   "outputs": [
    {
     "data": {
      "text/html": [
       "<div>\n",
       "<style scoped>\n",
       "    .dataframe tbody tr th:only-of-type {\n",
       "        vertical-align: middle;\n",
       "    }\n",
       "\n",
       "    .dataframe tbody tr th {\n",
       "        vertical-align: top;\n",
       "    }\n",
       "\n",
       "    .dataframe thead th {\n",
       "        text-align: right;\n",
       "    }\n",
       "</style>\n",
       "<table border=\"1\" class=\"dataframe\">\n",
       "  <thead>\n",
       "    <tr style=\"text-align: right;\">\n",
       "      <th></th>\n",
       "      <th>Country Name</th>\n",
       "      <th>Country Code</th>\n",
       "      <th>Year</th>\n",
       "      <th>Value</th>\n",
       "    </tr>\n",
       "  </thead>\n",
       "  <tbody>\n",
       "    <tr>\n",
       "      <th>0</th>\n",
       "      <td>Arab World</td>\n",
       "      <td>ARB</td>\n",
       "      <td>1968</td>\n",
       "      <td>2.576068e+10</td>\n",
       "    </tr>\n",
       "    <tr>\n",
       "      <th>1</th>\n",
       "      <td>Arab World</td>\n",
       "      <td>ARB</td>\n",
       "      <td>1969</td>\n",
       "      <td>2.843420e+10</td>\n",
       "    </tr>\n",
       "    <tr>\n",
       "      <th>2</th>\n",
       "      <td>Arab World</td>\n",
       "      <td>ARB</td>\n",
       "      <td>1970</td>\n",
       "      <td>3.138550e+10</td>\n",
       "    </tr>\n",
       "    <tr>\n",
       "      <th>3</th>\n",
       "      <td>Arab World</td>\n",
       "      <td>ARB</td>\n",
       "      <td>1971</td>\n",
       "      <td>3.642691e+10</td>\n",
       "    </tr>\n",
       "    <tr>\n",
       "      <th>4</th>\n",
       "      <td>Arab World</td>\n",
       "      <td>ARB</td>\n",
       "      <td>1972</td>\n",
       "      <td>4.331606e+10</td>\n",
       "    </tr>\n",
       "  </tbody>\n",
       "</table>\n",
       "</div>"
      ],
      "text/plain": [
       "  Country Name Country Code  Year         Value\n",
       "0   Arab World          ARB  1968  2.576068e+10\n",
       "1   Arab World          ARB  1969  2.843420e+10\n",
       "2   Arab World          ARB  1970  3.138550e+10\n",
       "3   Arab World          ARB  1971  3.642691e+10\n",
       "4   Arab World          ARB  1972  4.331606e+10"
      ]
     },
     "execution_count": 4,
     "metadata": {},
     "output_type": "execute_result"
    }
   ],
   "source": [
    "#Display first 5 values\n",
    "gdp.head()"
   ]
  },
  {
   "cell_type": "code",
   "execution_count": 5,
   "metadata": {
    "executionInfo": {
     "elapsed": 1353,
     "status": "ok",
     "timestamp": 1619957933099,
     "user": {
      "displayName": "Yash Dantale",
      "photoUrl": "",
      "userId": "09586182703132829841"
     },
     "user_tz": -330
    },
    "id": "8e6xaKT1BBHR",
    "outputId": "b376f928-cb06-4a2a-cc4e-e62d762a8b3a"
   },
   "outputs": [
    {
     "data": {
      "text/html": [
       "<div>\n",
       "<style scoped>\n",
       "    .dataframe tbody tr th:only-of-type {\n",
       "        vertical-align: middle;\n",
       "    }\n",
       "\n",
       "    .dataframe tbody tr th {\n",
       "        vertical-align: top;\n",
       "    }\n",
       "\n",
       "    .dataframe thead th {\n",
       "        text-align: right;\n",
       "    }\n",
       "</style>\n",
       "<table border=\"1\" class=\"dataframe\">\n",
       "  <thead>\n",
       "    <tr style=\"text-align: right;\">\n",
       "      <th></th>\n",
       "      <th>Country Name</th>\n",
       "      <th>Country Code</th>\n",
       "      <th>Year</th>\n",
       "      <th>Value</th>\n",
       "    </tr>\n",
       "  </thead>\n",
       "  <tbody>\n",
       "    <tr>\n",
       "      <th>11502</th>\n",
       "      <td>Zimbabwe</td>\n",
       "      <td>ZWE</td>\n",
       "      <td>2012</td>\n",
       "      <td>1.424249e+10</td>\n",
       "    </tr>\n",
       "    <tr>\n",
       "      <th>11503</th>\n",
       "      <td>Zimbabwe</td>\n",
       "      <td>ZWE</td>\n",
       "      <td>2013</td>\n",
       "      <td>1.545177e+10</td>\n",
       "    </tr>\n",
       "    <tr>\n",
       "      <th>11504</th>\n",
       "      <td>Zimbabwe</td>\n",
       "      <td>ZWE</td>\n",
       "      <td>2014</td>\n",
       "      <td>1.589105e+10</td>\n",
       "    </tr>\n",
       "    <tr>\n",
       "      <th>11505</th>\n",
       "      <td>Zimbabwe</td>\n",
       "      <td>ZWE</td>\n",
       "      <td>2015</td>\n",
       "      <td>1.630467e+10</td>\n",
       "    </tr>\n",
       "    <tr>\n",
       "      <th>11506</th>\n",
       "      <td>Zimbabwe</td>\n",
       "      <td>ZWE</td>\n",
       "      <td>2016</td>\n",
       "      <td>1.661996e+10</td>\n",
       "    </tr>\n",
       "  </tbody>\n",
       "</table>\n",
       "</div>"
      ],
      "text/plain": [
       "      Country Name Country Code  Year         Value\n",
       "11502     Zimbabwe          ZWE  2012  1.424249e+10\n",
       "11503     Zimbabwe          ZWE  2013  1.545177e+10\n",
       "11504     Zimbabwe          ZWE  2014  1.589105e+10\n",
       "11505     Zimbabwe          ZWE  2015  1.630467e+10\n",
       "11506     Zimbabwe          ZWE  2016  1.661996e+10"
      ]
     },
     "execution_count": 5,
     "metadata": {},
     "output_type": "execute_result"
    }
   ],
   "source": [
    "#Display last 5 values\n",
    "gdp.tail()"
   ]
  },
  {
   "cell_type": "code",
   "execution_count": 6,
   "metadata": {
    "executionInfo": {
     "elapsed": 1269,
     "status": "ok",
     "timestamp": 1619958448820,
     "user": {
      "displayName": "Yash Dantale",
      "photoUrl": "",
      "userId": "09586182703132829841"
     },
     "user_tz": -330
    },
    "id": "DHQhEmvEB5tT",
    "outputId": "5f01be67-b8b0-40c2-c3b7-9433be34700b"
   },
   "outputs": [
    {
     "data": {
      "text/html": [
       "<div>\n",
       "<style scoped>\n",
       "    .dataframe tbody tr th:only-of-type {\n",
       "        vertical-align: middle;\n",
       "    }\n",
       "\n",
       "    .dataframe tbody tr th {\n",
       "        vertical-align: top;\n",
       "    }\n",
       "\n",
       "    .dataframe thead th {\n",
       "        text-align: right;\n",
       "    }\n",
       "</style>\n",
       "<table border=\"1\" class=\"dataframe\">\n",
       "  <thead>\n",
       "    <tr style=\"text-align: right;\">\n",
       "      <th></th>\n",
       "      <th>Year</th>\n",
       "      <th>Value</th>\n",
       "    </tr>\n",
       "  </thead>\n",
       "  <tbody>\n",
       "    <tr>\n",
       "      <th>count</th>\n",
       "      <td>11507.000000</td>\n",
       "      <td>1.150700e+04</td>\n",
       "    </tr>\n",
       "    <tr>\n",
       "      <th>mean</th>\n",
       "      <td>1991.265230</td>\n",
       "      <td>1.005972e+12</td>\n",
       "    </tr>\n",
       "    <tr>\n",
       "      <th>std</th>\n",
       "      <td>15.886648</td>\n",
       "      <td>4.533056e+12</td>\n",
       "    </tr>\n",
       "    <tr>\n",
       "      <th>min</th>\n",
       "      <td>1960.000000</td>\n",
       "      <td>8.824448e+06</td>\n",
       "    </tr>\n",
       "    <tr>\n",
       "      <th>25%</th>\n",
       "      <td>1978.000000</td>\n",
       "      <td>2.056874e+09</td>\n",
       "    </tr>\n",
       "    <tr>\n",
       "      <th>50%</th>\n",
       "      <td>1993.000000</td>\n",
       "      <td>1.436880e+10</td>\n",
       "    </tr>\n",
       "    <tr>\n",
       "      <th>75%</th>\n",
       "      <td>2005.000000</td>\n",
       "      <td>1.796394e+11</td>\n",
       "    </tr>\n",
       "    <tr>\n",
       "      <th>max</th>\n",
       "      <td>2016.000000</td>\n",
       "      <td>7.904923e+13</td>\n",
       "    </tr>\n",
       "  </tbody>\n",
       "</table>\n",
       "</div>"
      ],
      "text/plain": [
       "               Year         Value\n",
       "count  11507.000000  1.150700e+04\n",
       "mean    1991.265230  1.005972e+12\n",
       "std       15.886648  4.533056e+12\n",
       "min     1960.000000  8.824448e+06\n",
       "25%     1978.000000  2.056874e+09\n",
       "50%     1993.000000  1.436880e+10\n",
       "75%     2005.000000  1.796394e+11\n",
       "max     2016.000000  7.904923e+13"
      ]
     },
     "execution_count": 6,
     "metadata": {},
     "output_type": "execute_result"
    }
   ],
   "source": [
    "#Exploratory Analysis\n",
    "gdp.describe()"
   ]
  },
  {
   "cell_type": "code",
   "execution_count": 7,
   "metadata": {
    "executionInfo": {
     "elapsed": 1580,
     "status": "ok",
     "timestamp": 1619958145471,
     "user": {
      "displayName": "Yash Dantale",
      "photoUrl": "",
      "userId": "09586182703132829841"
     },
     "user_tz": -330
    },
    "id": "EGKj_KqsBFxR",
    "outputId": "6d71ca75-619f-4deb-a42e-90617bbf8bdc"
   },
   "outputs": [
    {
     "data": {
      "text/plain": [
       "array(['Arab World', 'Caribbean small states',\n",
       "       'Central Europe and the Baltics', 'Early-demographic dividend',\n",
       "       'East Asia & Pacific',\n",
       "       'East Asia & Pacific (excluding high income)',\n",
       "       'East Asia & Pacific (IDA & IBRD countries)', 'Euro area',\n",
       "       'Europe & Central Asia',\n",
       "       'Europe & Central Asia (excluding high income)',\n",
       "       'Europe & Central Asia (IDA & IBRD countries)', 'European Union',\n",
       "       'Fragile and conflict affected situations',\n",
       "       'Heavily indebted poor countries (HIPC)', 'High income',\n",
       "       'IBRD only', 'IDA & IBRD total', 'IDA blend', 'IDA only',\n",
       "       'IDA total', 'Late-demographic dividend',\n",
       "       'Latin America & Caribbean',\n",
       "       'Latin America & Caribbean (excluding high income)',\n",
       "       'Latin America & the Caribbean (IDA & IBRD countries)',\n",
       "       'Least developed countries: UN classification',\n",
       "       'Low & middle income', 'Low income', 'Lower middle income',\n",
       "       'Middle East & North Africa',\n",
       "       'Middle East & North Africa (excluding high income)',\n",
       "       'Middle East & North Africa (IDA & IBRD countries)',\n",
       "       'Middle income', 'North America', 'OECD members',\n",
       "       'Other small states', 'Pacific island small states',\n",
       "       'Post-demographic dividend', 'Pre-demographic dividend',\n",
       "       'Small states', 'South Asia', 'South Asia (IDA & IBRD)',\n",
       "       'Sub-Saharan Africa', 'Sub-Saharan Africa (excluding high income)',\n",
       "       'Sub-Saharan Africa (IDA & IBRD countries)', 'Upper middle income',\n",
       "       'World', 'Afghanistan', 'Albania', 'Algeria', 'American Samoa',\n",
       "       'Andorra', 'Angola', 'Antigua and Barbuda', 'Argentina', 'Armenia',\n",
       "       'Aruba', 'Australia', 'Austria', 'Azerbaijan', 'Bahamas, The',\n",
       "       'Bahrain', 'Bangladesh', 'Barbados', 'Belarus', 'Belgium',\n",
       "       'Belize', 'Benin', 'Bermuda', 'Bhutan', 'Bolivia',\n",
       "       'Bosnia and Herzegovina', 'Botswana', 'Brazil',\n",
       "       'Brunei Darussalam', 'Bulgaria', 'Burkina Faso', 'Burundi',\n",
       "       'Cabo Verde', 'Cambodia', 'Cameroon', 'Canada', 'Cayman Islands',\n",
       "       'Central African Republic', 'Chad', 'Channel Islands', 'Chile',\n",
       "       'China', 'Colombia', 'Comoros', 'Congo, Dem. Rep.', 'Congo, Rep.',\n",
       "       'Costa Rica', \"Cote d'Ivoire\", 'Croatia', 'Cuba', 'Cyprus',\n",
       "       'Czech Republic', 'Denmark', 'Djibouti', 'Dominica',\n",
       "       'Dominican Republic', 'Ecuador', 'Egypt, Arab Rep.', 'El Salvador',\n",
       "       'Equatorial Guinea', 'Eritrea', 'Estonia', 'Ethiopia',\n",
       "       'Faroe Islands', 'Fiji', 'Finland', 'France', 'French Polynesia',\n",
       "       'Gabon', 'Gambia, The', 'Georgia', 'Germany', 'Ghana', 'Greece',\n",
       "       'Greenland', 'Grenada', 'Guam', 'Guatemala', 'Guinea',\n",
       "       'Guinea-Bissau', 'Guyana', 'Haiti', 'Honduras',\n",
       "       'Hong Kong SAR, China', 'Hungary', 'Iceland', 'India', 'Indonesia',\n",
       "       'Iran, Islamic Rep.', 'Iraq', 'Ireland', 'Isle of Man', 'Israel',\n",
       "       'Italy', 'Jamaica', 'Japan', 'Jordan', 'Kazakhstan', 'Kenya',\n",
       "       'Kiribati', 'Korea, Rep.', 'Kosovo', 'Kuwait', 'Kyrgyz Republic',\n",
       "       'Lao PDR', 'Latvia', 'Lebanon', 'Lesotho', 'Liberia', 'Libya',\n",
       "       'Liechtenstein', 'Lithuania', 'Luxembourg', 'Macao SAR, China',\n",
       "       'Macedonia, FYR', 'Madagascar', 'Malawi', 'Malaysia', 'Maldives',\n",
       "       'Mali', 'Malta', 'Marshall Islands', 'Mauritania', 'Mauritius',\n",
       "       'Mexico', 'Micronesia, Fed. Sts.', 'Moldova', 'Monaco', 'Mongolia',\n",
       "       'Montenegro', 'Morocco', 'Mozambique', 'Myanmar', 'Namibia',\n",
       "       'Nauru', 'Nepal', 'Netherlands', 'New Caledonia', 'New Zealand',\n",
       "       'Nicaragua', 'Niger', 'Nigeria', 'Northern Mariana Islands',\n",
       "       'Norway', 'Oman', 'Pakistan', 'Palau', 'Panama',\n",
       "       'Papua New Guinea', 'Paraguay', 'Peru', 'Philippines', 'Poland',\n",
       "       'Portugal', 'Puerto Rico', 'Qatar', 'Romania',\n",
       "       'Russian Federation', 'Rwanda', 'Samoa', 'San Marino',\n",
       "       'Sao Tome and Principe', 'Saudi Arabia', 'Senegal', 'Serbia',\n",
       "       'Seychelles', 'Sierra Leone', 'Singapore', 'Slovak Republic',\n",
       "       'Slovenia', 'Solomon Islands', 'Somalia', 'South Africa',\n",
       "       'South Sudan', 'Spain', 'Sri Lanka', 'St. Kitts and Nevis',\n",
       "       'St. Lucia', 'St. Vincent and the Grenadines', 'Sudan', 'Suriname',\n",
       "       'Swaziland', 'Sweden', 'Switzerland', 'Syrian Arab Republic',\n",
       "       'Tajikistan', 'Tanzania', 'Thailand', 'Timor-Leste', 'Togo',\n",
       "       'Tonga', 'Trinidad and Tobago', 'Tunisia', 'Turkey',\n",
       "       'Turkmenistan', 'Tuvalu', 'Uganda', 'Ukraine',\n",
       "       'United Arab Emirates', 'United Kingdom', 'United States',\n",
       "       'Uruguay', 'Uzbekistan', 'Vanuatu', 'Venezuela, RB', 'Vietnam',\n",
       "       'Virgin Islands (U.S.)', 'West Bank and Gaza', 'Yemen, Rep.',\n",
       "       'Zambia', 'Zimbabwe'], dtype=object)"
      ]
     },
     "execution_count": 7,
     "metadata": {},
     "output_type": "execute_result"
    }
   ],
   "source": [
    "#Listing all the countries and regions\n",
    "gdp[\"Country Name\"].unique()"
   ]
  },
  {
   "cell_type": "code",
   "execution_count": 8,
   "metadata": {
    "executionInfo": {
     "elapsed": 959,
     "status": "ok",
     "timestamp": 1619964367435,
     "user": {
      "displayName": "Yash Dantale",
      "photoUrl": "",
      "userId": "09586182703132829841"
     },
     "user_tz": -330
    },
    "id": "cfDMtNfODD2V",
    "outputId": "89e16455-6a02-44e8-c237-a9db31b8cb67"
   },
   "outputs": [
    {
     "name": "stdout",
     "output_type": "stream",
     "text": [
      "     Country Name Country Code  Year         Value\n",
      "6074        India          IND  1960  3.653593e+10\n",
      "6075        India          IND  1961  3.870910e+10\n",
      "6076        India          IND  1962  4.159907e+10\n",
      "6077        India          IND  1963  4.777600e+10\n",
      "6078        India          IND  1964  5.572687e+10\n",
      "6079        India          IND  1965  5.876042e+10\n",
      "6080        India          IND  1966  4.525364e+10\n",
      "6081        India          IND  1967  4.946617e+10\n",
      "6082        India          IND  1968  5.237732e+10\n",
      "6083        India          IND  1969  5.766833e+10\n",
      "6084        India          IND  1970  6.158980e+10\n",
      "6085        India          IND  1971  6.645256e+10\n",
      "6086        India          IND  1972  7.050991e+10\n",
      "6087        India          IND  1973  8.437454e+10\n",
      "6088        India          IND  1974  9.819828e+10\n",
      "6089        India          IND  1975  9.715922e+10\n",
      "6090        India          IND  1976  1.013470e+11\n",
      "6091        India          IND  1977  1.198667e+11\n",
      "6092        India          IND  1978  1.354688e+11\n",
      "6093        India          IND  1979  1.509508e+11\n",
      "6094        India          IND  1980  1.838399e+11\n",
      "6095        India          IND  1981  1.909095e+11\n",
      "6096        India          IND  1982  1.980377e+11\n",
      "6097        India          IND  1983  2.153508e+11\n",
      "6098        India          IND  1984  2.093282e+11\n",
      "6099        India          IND  1985  2.294103e+11\n",
      "6100        India          IND  1986  2.456647e+11\n",
      "6101        India          IND  1987  2.753114e+11\n",
      "6102        India          IND  1988  2.926327e+11\n",
      "6103        India          IND  1989  2.920933e+11\n",
      "6104        India          IND  1990  3.166973e+11\n",
      "6105        India          IND  1991  2.665023e+11\n",
      "6106        India          IND  1992  2.843639e+11\n",
      "6107        India          IND  1993  2.755704e+11\n",
      "6108        India          IND  1994  3.229099e+11\n",
      "6109        India          IND  1995  3.554760e+11\n",
      "6110        India          IND  1996  3.876560e+11\n",
      "6111        India          IND  1997  4.103203e+11\n",
      "6112        India          IND  1998  4.157309e+11\n",
      "6113        India          IND  1999  4.527000e+11\n",
      "6114        India          IND  2000  4.621468e+11\n",
      "6115        India          IND  2001  4.789655e+11\n",
      "6116        India          IND  2002  5.080690e+11\n",
      "6117        India          IND  2003  5.995929e+11\n",
      "6118        India          IND  2004  6.996889e+11\n",
      "6119        India          IND  2005  8.089011e+11\n",
      "6120        India          IND  2006  9.203165e+11\n",
      "6121        India          IND  2007  1.201112e+12\n",
      "6122        India          IND  2008  1.186953e+12\n",
      "6123        India          IND  2009  1.323940e+12\n",
      "6124        India          IND  2010  1.656617e+12\n",
      "6125        India          IND  2011  1.823050e+12\n",
      "6126        India          IND  2012  1.827638e+12\n",
      "6127        India          IND  2013  1.856722e+12\n",
      "6128        India          IND  2014  2.035393e+12\n",
      "6129        India          IND  2015  2.089865e+12\n",
      "6130        India          IND  2016  2.263792e+12\n",
      "(11507, 4)\n"
     ]
    }
   ],
   "source": [
    "#For India\n",
    "ind = gdp[gdp['Country Name']=='India']\n",
    "print(ind)\n",
    "#Shape\n",
    "print(gdp.shape)   "
   ]
  },
  {
   "cell_type": "code",
   "execution_count": 9,
   "metadata": {
    "executionInfo": {
     "elapsed": 2004,
     "status": "ok",
     "timestamp": 1619961137553,
     "user": {
      "displayName": "Yash Dantale",
      "photoUrl": "",
      "userId": "09586182703132829841"
     },
     "user_tz": -330
    },
    "id": "fZu2cYPEDZ5T",
    "outputId": "c6bac971-965f-4668-9b5e-2ea8592ed36b"
   },
   "outputs": [
    {
     "data": {
      "image/png": "[encoded data removed]",
      "text/plain": [
       "<Figure size 640x480 with 1 Axes>"
      ]
     },
     "metadata": {},
     "output_type": "display_data"
    }
   ],
   "source": [
    "ind.plot(x='Year', y='Value', kind='line') \n",
    "plt.show()"
   ]
  },
  {
   "cell_type": "code",
   "execution_count": 10,
   "metadata": {
    "executionInfo": {
     "elapsed": 1395,
     "status": "ok",
     "timestamp": 1619962483113,
     "user": {
      "displayName": "Yash Dantale",
      "photoUrl": "",
      "userId": "09586182703132829841"
     },
     "user_tz": -330
    },
    "id": "v3FqCwxSPwLw",
    "outputId": "e59c0269-0c97-4547-91b7-01b125297835"
   },
   "outputs": [
    {
     "name": "stdout",
     "output_type": "stream",
     "text": [
      "        Country Name Country Code  Year         Value\n",
      "11029  United States          USA  1960  5.433000e+11\n",
      "11030  United States          USA  1961  5.633000e+11\n",
      "11031  United States          USA  1962  6.051000e+11\n",
      "11032  United States          USA  1963  6.386000e+11\n",
      "11033  United States          USA  1964  6.858000e+11\n",
      "11034  United States          USA  1965  7.437000e+11\n",
      "11035  United States          USA  1966  8.150000e+11\n",
      "11036  United States          USA  1967  8.617000e+11\n",
      "11037  United States          USA  1968  9.425000e+11\n",
      "11038  United States          USA  1969  1.019900e+12\n",
      "11039  United States          USA  1970  1.075884e+12\n",
      "11040  United States          USA  1971  1.167770e+12\n",
      "11041  United States          USA  1972  1.282449e+12\n",
      "11042  United States          USA  1973  1.428549e+12\n",
      "11043  United States          USA  1974  1.548825e+12\n",
      "11044  United States          USA  1975  1.688923e+12\n",
      "11045  United States          USA  1976  1.877587e+12\n",
      "11046  United States          USA  1977  2.085951e+12\n",
      "11047  United States          USA  1978  2.356571e+12\n",
      "11048  United States          USA  1979  2.632143e+12\n",
      "11049  United States          USA  1980  2.862505e+12\n",
      "11050  United States          USA  1981  3.210956e+12\n",
      "11051  United States          USA  1982  3.344991e+12\n",
      "11052  United States          USA  1983  3.638137e+12\n",
      "11053  United States          USA  1984  4.040693e+12\n",
      "11054  United States          USA  1985  4.346734e+12\n",
      "11055  United States          USA  1986  4.590155e+12\n",
      "11056  United States          USA  1987  4.870217e+12\n",
      "11057  United States          USA  1988  5.252629e+12\n",
      "11058  United States          USA  1989  5.657693e+12\n",
      "11059  United States          USA  1990  5.979589e+12\n",
      "11060  United States          USA  1991  6.174043e+12\n",
      "11061  United States          USA  1992  6.539299e+12\n",
      "11062  United States          USA  1993  6.878718e+12\n",
      "11063  United States          USA  1994  7.308755e+12\n",
      "11064  United States          USA  1995  7.664060e+12\n",
      "11065  United States          USA  1996  8.100201e+12\n",
      "11066  United States          USA  1997  8.608515e+12\n",
      "11067  United States          USA  1998  9.089168e+12\n",
      "11068  United States          USA  1999  9.660624e+12\n",
      "11069  United States          USA  2000  1.028478e+13\n",
      "11070  United States          USA  2001  1.062182e+13\n",
      "11071  United States          USA  2002  1.097751e+13\n",
      "11072  United States          USA  2003  1.151067e+13\n",
      "11073  United States          USA  2004  1.227493e+13\n",
      "11074  United States          USA  2005  1.309373e+13\n",
      "11075  United States          USA  2006  1.385589e+13\n",
      "11076  United States          USA  2007  1.447764e+13\n",
      "11077  United States          USA  2008  1.471858e+13\n",
      "11078  United States          USA  2009  1.441874e+13\n",
      "11079  United States          USA  2010  1.496437e+13\n",
      "11080  United States          USA  2011  1.551793e+13\n",
      "11081  United States          USA  2012  1.615526e+13\n",
      "11082  United States          USA  2013  1.669152e+13\n",
      "11083  United States          USA  2014  1.739310e+13\n",
      "11084  United States          USA  2015  1.812071e+13\n",
      "11085  United States          USA  2016  1.862448e+13\n"
     ]
    }
   ],
   "source": [
    "#For USA\n",
    "usa = gdp[gdp['Country Name']=='United States']\n",
    "print(usa)"
   ]
  },
  {
   "cell_type": "code",
   "execution_count": 11,
   "metadata": {
    "executionInfo": {
     "elapsed": 1086,
     "status": "ok",
     "timestamp": 1619962499856,
     "user": {
      "displayName": "Yash Dantale",
      "photoUrl": "",
      "userId": "09586182703132829841"
     },
     "user_tz": -330
    },
    "id": "AU4KQ_9QScnI",
    "outputId": "fa04a3a1-18eb-4176-d811-7c5c2ca0bde4"
   },
   "outputs": [
    {
     "data": {
      "image/png": "[encoded data removed]",
      "text/plain": [
       "<Figure size 640x480 with 1 Axes>"
      ]
     },
     "metadata": {},
     "output_type": "display_data"
    }
   ],
   "source": [
    "usa.plot(x='Year', y='Value', kind='line') \n",
    "plt.show()"
   ]
  },
  {
   "cell_type": "code",
   "execution_count": 12,
   "metadata": {
    "executionInfo": {
     "elapsed": 1014,
     "status": "ok",
     "timestamp": 1619963094483,
     "user": {
      "displayName": "Yash Dantale",
      "photoUrl": "",
      "userId": "09586182703132829841"
     },
     "user_tz": -330
    },
    "id": "0OQKokMmSg6l"
   },
   "outputs": [],
   "source": [
    "#Testing and Training a Model for Predicting India's GDP using Linear Regression\n",
    "from sklearn import preprocessing, svm\n",
    "from sklearn.model_selection import train_test_split\n",
    "from sklearn.linear_model import LinearRegression"
   ]
  },
  {
   "cell_type": "code",
   "execution_count": 13,
   "metadata": {
    "executionInfo": {
     "elapsed": 1049,
     "status": "ok",
     "timestamp": 1619963256756,
     "user": {
      "displayName": "Yash Dantale",
      "photoUrl": "",
      "userId": "09586182703132829841"
     },
     "user_tz": -330
    },
    "id": "7Z8grJNaUyFr"
   },
   "outputs": [],
   "source": [
    "x = np.array(ind['Year']).reshape(-1, 1)\n",
    "y = np.array(ind['Value']).reshape(-1, 1)"
   ]
  },
  {
   "cell_type": "code",
   "execution_count": 14,
   "metadata": {
    "executionInfo": {
     "elapsed": 1392,
     "status": "ok",
     "timestamp": 1619963306617,
     "user": {
      "displayName": "Yash Dantale",
      "photoUrl": "",
      "userId": "09586182703132829841"
     },
     "user_tz": -330
    },
    "id": "ob00-juyVZs4",
    "outputId": "c1790ba1-3ef7-4170-9ebf-4f78aaecb5c3"
   },
   "outputs": [
    {
     "name": "stderr",
     "output_type": "stream",
     "text": [
      "C:\\Users\\akhil\\anaconda3\\Lib\\site-packages\\seaborn\\axisgrid.py:118: UserWarning: The figure layout has changed to tight\n",
      "  self._figure.tight_layout(*args, **kwargs)\n"
     ]
    },
    {
     "data": {
      "text/plain": [
       "<seaborn.axisgrid.FacetGrid at 0x1a7f9ebc910>"
      ]
     },
     "execution_count": 14,
     "metadata": {},
     "output_type": "execute_result"
    },
    {
     "data": {
      "image/png": "[encoded data removed]",
      "text/plain": [
       "<Figure size 500x500 with 1 Axes>"
      ]
     },
     "metadata": {},
     "output_type": "display_data"
    }
   ],
   "source": [
    "# Plotting the data scatter\n",
    "sns.lmplot(x =\"Year\", y =\"Value\", data = ind, order = 2, ci = None)"
   ]
  },
  {
   "cell_type": "code",
   "execution_count": 15,
   "metadata": {
    "executionInfo": {
     "elapsed": 1087,
     "status": "ok",
     "timestamp": 1619964325806,
     "user": {
      "displayName": "Yash Dantale",
      "photoUrl": "",
      "userId": "09586182703132829841"
     },
     "user_tz": -330
    },
    "id": "IVNEYYGgVlzF"
   },
   "outputs": [],
   "source": [
    "x_train, x_test, y_train, y_test = train_test_split(x, y, test_size = 0.70)"
   ]
  },
  {
   "cell_type": "code",
   "execution_count": 16,
   "metadata": {
    "executionInfo": {
     "elapsed": 776,
     "status": "ok",
     "timestamp": 1619964327592,
     "user": {
      "displayName": "Yash Dantale",
      "photoUrl": "",
      "userId": "09586182703132829841"
     },
     "user_tz": -330
    },
    "id": "DcVNhc3qWAe5",
    "outputId": "c8a70344-c003-42be-f057-1788c09925a7"
   },
   "outputs": [
    {
     "name": "stdout",
     "output_type": "stream",
     "text": [
      "coefficient of determination: 0.6452185257724603\n"
     ]
    }
   ],
   "source": [
    "regr = LinearRegression()\n",
    "  \n",
    "regr.fit(x_train, y_train)\n",
    "print('coefficient of determination:',regr.score(x_test, y_test))"
   ]
  },
  {
   "cell_type": "code",
   "execution_count": 17,
   "metadata": {
    "executionInfo": {
     "elapsed": 2486,
     "status": "ok",
     "timestamp": 1619964331750,
     "user": {
      "displayName": "Yash Dantale",
      "photoUrl": "",
      "userId": "09586182703132829841"
     },
     "user_tz": -330
    },
    "id": "0rHlfP3dWJyF",
    "outputId": "defce245-67b9-4bcc-fc00-011b8df13b22"
   },
   "outputs": [
    {
     "name": "stdout",
     "output_type": "stream",
     "text": [
      "predicted response:\n",
      "[[ 1.28978378e+12]\n",
      " [ 8.33124324e+11]\n",
      " [-2.01970452e+11]\n",
      " [ 8.94012252e+11]\n",
      " [ 2.24245044e+11]\n",
      " [ 4.67796756e+11]\n",
      " [ 3.76464864e+11]\n",
      " [ 2.54689008e+11]\n",
      " [-1.71526488e+11]\n",
      " [-1.93066684e+10]\n",
      " [ 6.80904504e+11]\n",
      " [ 8.63568288e+11]\n",
      " [ 1.19845189e+12]\n",
      " [ 7.72236396e+11]\n",
      " [ 1.41155964e+12]\n",
      " [ 5.89572612e+11]\n",
      " [ 5.59128648e+11]\n",
      " [-2.62858380e+11]\n",
      " [ 1.16800793e+12]\n",
      " [ 6.50460540e+11]\n",
      " [ 9.85344144e+11]\n",
      " [ 1.04623207e+12]\n",
      " [ 2.85132972e+11]\n",
      " [ 1.01578811e+12]\n",
      " [ 3.15576936e+11]\n",
      " [ 5.28684684e+11]\n",
      " [ 4.98240720e+11]\n",
      " [ 1.32022775e+12]\n",
      " [ 7.11348468e+11]\n",
      " [ 1.02469188e+11]\n",
      " [ 4.06908828e+11]\n",
      " [ 1.44200360e+12]\n",
      " [ 7.41792432e+11]\n",
      " [ 1.63357116e+11]\n",
      " [-4.97506324e+10]\n",
      " [ 3.46020900e+11]\n",
      " [ 1.13756396e+12]\n",
      " [ 8.02680360e+11]\n",
      " [ 1.22889586e+12]\n",
      " [ 1.11372956e+10]]\n"
     ]
    },
    {
     "data": {
      "image/png": "[encoded data removed]",
      "text/plain": [
       "<Figure size 640x480 with 1 Axes>"
      ]
     },
     "metadata": {},
     "output_type": "display_data"
    }
   ],
   "source": [
    "# Data scatter of predicted values\n",
    "y_pred = regr.predict(x_test)\n",
    "print('predicted response:', y_pred, sep='\\n')\n",
    "plt.scatter(x_test, y_test, color ='b')\n",
    "plt.plot(x_test, y_pred, color ='k')\n",
    "plt.show()"
   ]
  },
  {
   "cell_type": "markdown",
   "metadata": {},
   "source": [
    "Accuracy of the model can be increased with increase countries dataset elements."
   ]
  },
  {
   "cell_type": "markdown",
   "metadata": {},
   "source": []
  }
 ],
 "metadata": {
  "kernelspec": {
   "display_name": "Python 3 (ipykernel)",
   "language": "python",
   "name": "python3"
  },
  "language_info": {
   "codemirror_mode": {
    "name": "ipython",
    "version": 3
   },
   "file_extension": ".py",
   "mimetype": "text/x-python",
   "name": "python",
   "nbconvert_exporter": "python",
   "pygments_lexer": "ipython3",
   "version": "3.11.5"
  }
 },
 "nbformat": 4,
 "nbformat_minor": 4
}
